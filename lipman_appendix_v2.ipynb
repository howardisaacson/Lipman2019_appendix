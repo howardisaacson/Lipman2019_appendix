{
 "cells": [
  {
   "cell_type": "markdown",
   "metadata": {},
   "source": [
    "### Lipman et. al 2018. Appendix revision detailed\n",
    "Prepared by H. Isaacson 17 Dec 2018\n",
    "Prepared with python 2.7"
   ]
  },
  {
   "cell_type": "code",
   "execution_count": 2,
   "metadata": {},
   "outputs": [],
   "source": [
    "import numpy as np\n",
    "import math"
   ]
  },
  {
   "cell_type": "markdown",
   "metadata": {},
   "source": [
    "### Define the constants.\n",
    "\n",
    "N_l is the number of photons from the laser received by the telescope and spectrograph. F_l  is the flux from the laser. A_d is the area of the receiving telescope t_exp is the exposure time of the typical observation. epsilon is the efficiency of the Levy spectrometer. E is the energy in a typical photon the APF receives. D is the distance to the star in question. d_t is the diameter of the transmitting telescope. del_l is the wavelength range contained within a point spread function (PSF).  delta_l is the wavelength range covered by the APF (approximately). L_s is the luminosity of the sun (an approximation for the luminosity of our star). "
   ]
  },
  {
   "cell_type": "code",
   "execution_count": 3,
   "metadata": {},
   "outputs": [],
   "source": [
    "h      = 6.626e-34        # m^2 kg /s  or J * s\n",
    "c      = 3.00e8           # m/s\n",
    "\n",
    "N_l    = 0                # Number\n",
    "F_l    = 0                # W\n",
    "A_d    = np.pi * 1.2*1.2  # m^2\n",
    "t_exp  = 600              # seconds\n",
    "epsilon= 0.05             # %\n",
    "lam    = 500e-9           # lambda in m\n",
    "E      = h*c / lam        # J         \n",
    "D      = 1470             # ly\n",
    "d_t    = 2.4              #  m\n",
    "del_l  = (3.26 * 0.02)*1e-9 #  m\n",
    "delta_l= 500e-9           # m\n",
    "L_s    = 3.828e26         # W"
   ]
  },
  {
   "cell_type": "code",
   "execution_count": 4,
   "metadata": {},
   "outputs": [],
   "source": [
    "# Convert all of the above to compatible units.\n",
    "D       = D * 9.461e15    # m"
   ]
  },
  {
   "cell_type": "markdown",
   "metadata": {},
   "source": [
    "### Equation 1 in the paper\n",
    "\\begin{equation}\n",
    "N_l = \\frac{F_l  A_d  t_{exp}  \\epsilon}{ E}\n",
    "\\end{equation}\n",
    "### Equation 2 in the paper.\n",
    "\\begin{equation}\n",
    "F_l = \\frac{L_l}{ A_l } \n",
    "\\end{equation}\n",
    "\n",
    "\\begin{equation}\n",
    "F_l= \\frac{4  L_l}{ ( \\pi   (D \\frac{1.22 \\lambda}{  d_t})^2)}\n",
    "\\end{equation}"
   ]
  },
  {
   "cell_type": "markdown",
   "metadata": {},
   "source": [
    "### Equation 3:\n",
    "\\begin{equation}\n",
    "N_l = \\frac{4  L_l  d_t^2}{ 1.22^2  \\pi  h  c  \\lambda D^2}  A_d  t_{exp}  \\epsilon\n",
    "\\end{equation}"
   ]
  },
  {
   "cell_type": "markdown",
   "metadata": {},
   "source": [
    "### Equation 4\n",
    "\\begin{equation}\n",
    "N_s = \\frac{L_s}{4  \\pi  D^2} \\frac{\\delta \\lambda}{\\Delta \\lambda} \\frac{\\lambda}{hc} A_d  t_{exp}  \\epsilon  \\end{equation}"
   ]
  },
  {
   "cell_type": "code",
   "execution_count": 5,
   "metadata": {},
   "outputs": [
    {
     "name": "stdout",
     "output_type": "stream",
     "text": [
      "7010.70736592\n"
     ]
    }
   ],
   "source": [
    "# Equation 4:\n",
    "N_s = (L_s * del_l * lam * A_d * t_exp * epsilon) / (4 * np.pi * D*D * delta_l * h * c )\n",
    "print(N_s)"
   ]
  },
  {
   "cell_type": "markdown",
   "metadata": {},
   "source": [
    "We require a 10 sigma detection: \n",
    "\\begin{equation}\n",
    "N_l > 10  \\sqrt{N_s}\n",
    "\\end{equation}"
   ]
  },
  {
   "cell_type": "markdown",
   "metadata": {},
   "source": [
    "### Equation 5\n",
    "\\begin{equation}\n",
    "L_{l} > \\frac{1.86 ~ D}{ d_t^2   } \\left( L_{s} \\frac{ \\delta \\lambda}{\\Delta \\lambda} \\frac{hc~\\pi~ \\lambda^3 } {A_{d}~t_{exp}~\\epsilon} \\right)^{1/2}\n",
    "\\end{equation}\n"
   ]
  },
  {
   "cell_type": "code",
   "execution_count": 6,
   "metadata": {},
   "outputs": [
    {
     "name": "stdout",
     "output_type": "stream",
     "text": [
      "24.0640695718\n"
     ]
    }
   ],
   "source": [
    "#Equation 5: Greater than sign changed to equal sign for computation.\n",
    "L_l = (1.86 * D / (d_t*d_t)) * math.sqrt((L_s * del_l * h * c * np.pi * lam**3)/ (delta_l * A_d * t_exp * epsilon))\n",
    "print(L_l)/1e6"
   ]
  },
  {
   "cell_type": "code",
   "execution_count": 7,
   "metadata": {},
   "outputs": [
    {
     "name": "stdout",
     "output_type": "stream",
     "text": [
      "24064069.5718 Watts\n",
      "24.0640695718 Mega Watts\n"
     ]
    }
   ],
   "source": [
    "#Equation 5: Greater than sign changed to equal sign for computation.\n",
    "# Do it again, but break it down more.\n",
    "part1 = (1.86 * D / (d_t*d_t)) \n",
    "part2 =  math.sqrt((L_s * del_l * h * c * np.pi * lam**3)/ (delta_l * A_d * t_exp * epsilon))\n",
    "L_l = part1 * part2\n",
    "print(L_l), 'Watts'\n",
    "# Change to Mega watts:\n",
    "print(L_l / 1e6), 'Mega Watts'"
   ]
  },
  {
   "cell_type": "code",
   "execution_count": null,
   "metadata": {},
   "outputs": [],
   "source": []
  },
  {
   "cell_type": "markdown",
   "metadata": {},
   "source": [
    "### Method 2  calculation\n",
    "\n"
   ]
  },
  {
   "cell_type": "markdown",
   "metadata": {},
   "source": [
    "Use equation 3, but with the empirical value of $N_l$, and solve for the luminosity of the distant laser."
   ]
  },
  {
   "cell_type": "markdown",
   "metadata": {},
   "source": [
    "\\begin{equation}\n",
    "N_{l} \n",
    "= \\frac{4L_{l} d_{t}^2}{1.22^{2}\\pi hc  \\lambda  D^{2}} ~ A_d ~ t_{\\exp} ~\\epsilon\n",
    "\\end{equation}\n",
    "\n"
   ]
  },
  {
   "cell_type": "markdown",
   "metadata": {},
   "source": [
    "\\begin{equation}\n",
    "L_{l} \n",
    "= \\frac{N_L 1.22^{2}\\pi hc  \\lambda  D^{2}}{4 d_{t}^2 A_d ~ t_{\\exp} ~\\epsilon}  \n",
    "\\end{equation}\n"
   ]
  },
  {
   "cell_type": "code",
   "execution_count": 10,
   "metadata": {},
   "outputs": [
    {
     "name": "stdout",
     "output_type": "stream",
     "text": [
      "('L_l = ', 11671614.057898765, ' Watts')\n",
      "('L_l = ', 11.671614057898765, ' Mega Watts')\n"
     ]
    }
   ],
   "source": [
    "N_l = 406 # From Appendix\n",
    "L_l = (N_l * 1.22**2 * np.pi * h*c*lam*D**2) / (4 * d_t**2 * A_d * t_exp * epsilon)\n",
    "print( \"L_l = \", L_l, ' Watts')\n",
    "print( \"L_l = \", L_l/1e6, ' Mega Watts')\n"
   ]
  },
  {
   "cell_type": "code",
   "execution_count": null,
   "metadata": {},
   "outputs": [],
   "source": []
  },
  {
   "cell_type": "code",
   "execution_count": null,
   "metadata": {},
   "outputs": [],
   "source": []
  }
 ],
 "metadata": {
  "kernelspec": {
   "display_name": "Python 2",
   "language": "python",
   "name": "python2"
  },
  "language_info": {
   "codemirror_mode": {
    "name": "ipython",
    "version": 2
   },
   "file_extension": ".py",
   "mimetype": "text/x-python",
   "name": "python",
   "nbconvert_exporter": "python",
   "pygments_lexer": "ipython2",
   "version": "2.7.15"
  }
 },
 "nbformat": 4,
 "nbformat_minor": 2
}
